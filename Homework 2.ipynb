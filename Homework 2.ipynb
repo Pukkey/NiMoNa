{
 "cells": [
  {
   "cell_type": "code",
   "execution_count": 2,
   "metadata": {},
   "outputs": [],
   "source": [
    "import numpy as np\n",
    "import matplotlib.pyplot as plt"
   ]
  },
  {
   "cell_type": "markdown",
   "metadata": {},
   "source": [
    "# Task 1: Plotting and Functions  "
   ]
  },
  {
   "cell_type": "code",
   "execution_count": 5,
   "metadata": {},
   "outputs": [],
   "source": [
    "def f(x,a):\n",
    "    y = a*np.sin(2*np.pi*x)\n",
    "    return y"
   ]
  },
  {
   "cell_type": "code",
   "execution_count": 6,
   "metadata": {},
   "outputs": [],
   "source": [
    "def g(x,b):\n",
    "    y= 1 +b* x**2\n",
    "    return y"
   ]
  },
  {
   "cell_type": "code",
   "execution_count": 15,
   "metadata": {},
   "outputs": [],
   "source": [
    "def h(x,c):\n",
    "    y= f(x,g(x,c))\n",
    "    return y"
   ]
  },
  {
   "cell_type": "code",
   "execution_count": 16,
   "metadata": {},
   "outputs": [],
   "source": [
    "x = np.linspace(-4,4, 1000)"
   ]
  },
  {
   "cell_type": "code",
   "execution_count": 26,
   "metadata": {},
   "outputs": [
    {
     "data": {
      "text/plain": [
       "<matplotlib.legend.Legend at 0x21b9c7650c8>"
      ]
     },
     "execution_count": 26,
     "metadata": {},
     "output_type": "execute_result"
    },
    {
     "data": {
      "image/png": "[encoded data removed]",
      "text/plain": [
       "<Figure size 432x288 with 1 Axes>"
      ]
     },
     "metadata": {
      "needs_background": "light"
     },
     "output_type": "display_data"
    }
   ],
   "source": [
    "c = np.array([0, 0.5, 1.0])\n",
    "plt.errorbar(x, h(x,c[0]), linestyle=\"\", marker=\"o\", markersize=2, label=\"$c = 0.0$\", color=\"darkblue\")\n",
    "plt.errorbar(x, h(x,c[1]), linestyle=\"\", marker=\"o\", markersize=2, label=\"$c = 0.5$\", color=\"darkred\")\n",
    "plt.errorbar(x, h(x,c[2]), linestyle=\"\", marker=\"o\", markersize=2, label=\"$c = 1.0$\", color=\"darkgreen\")\n",
    "\n",
    "plt.grid()\n",
    "plt.xlabel(\"x\")\n",
    "plt.ylabel(\"h(x)\")\n",
    "\n",
    "plt.legend()"
   ]
  },
  {
   "cell_type": "markdown",
   "metadata": {},
   "source": [
    "Das verändern der Variablennamen in der Funktionsdefinition sollte nichts am Ergebnis verändern, da dies nur Platzhaltervariablen sind."
   ]
  },
  {
   "cell_type": "markdown",
   "metadata": {},
   "source": [
    "# 3. Strings and Ifs"
   ]
  },
  {
   "cell_type": "code",
   "execution_count": 6,
   "metadata": {},
   "outputs": [
    {
     "name": "stdout",
     "output_type": "stream",
     "text": [
      "That was wrong!\n",
      "-5 \n",
      "That was wrong!\n",
      "-4 \n",
      "That was wrong!\n",
      "-3 \n",
      "That was wrong!\n",
      "-2 \n",
      "That was wrong!\n",
      "-1 \n",
      "0 World\n",
      "1 World\n",
      "2 Goodbye\n",
      "3 Goodbye\n",
      "4 World\n",
      "5 Goodbye\n",
      "6 Hello \n",
      "7 Hello \n",
      "8 Hello \n",
      "9 Hello \n",
      "10 Hello \n",
      "That was wrong!\n",
      "11 \n",
      "That was wrong!\n",
      "12 \n",
      "That was wrong!\n",
      "13 \n",
      "That was wrong!\n",
      "14 \n",
      "That was wrong!\n",
      "15 \n"
     ]
    }
   ],
   "source": [
    "x = -5\n",
    "\n",
    "while x <= (15):  \n",
    "    String = \"\"\n",
    "    if x<0 or x> 10: \n",
    "        print(\"That was wrong!\")\n",
    "    elif x > 5:\n",
    "        String += \"Hello \"\n",
    "    elif (np.sqrt(x) == int(np.sqrt(x))):\n",
    "        String  += \"World\"\n",
    "    else:\n",
    "        String = \"Goodbye\"        \n",
    "    print(x, String)  \n",
    "    x = x+1     "
   ]
  },
  {
   "cell_type": "code",
   "execution_count": 7,
   "metadata": {},
   "outputs": [
    {
     "name": "stdout",
     "output_type": "stream",
     "text": [
      "0 World\n",
      "1 World\n",
      "2 Goodbye\n",
      "3 Goodbye\n",
      "4 World\n",
      "5 Goodbye\n",
      "6 Hello \n",
      "7 Hello \n",
      "8 Hello \n",
      "9 Hello World\n",
      "10 Hello \n"
     ]
    }
   ],
   "source": [
    "#'x = int(input(\"Enter a number between 0 and 10 inclusive:\"))\n",
    "\n",
    "x = 0\n",
    "\n",
    "while x <= (10):  \n",
    "    String = \"\"\n",
    "    if x<0 or x> 100: \n",
    "        print(\"That was wrong!\")\n",
    "    elif x > 5:\n",
    "        String += \"Hello \"\n",
    "        if (np.sqrt(x) == int(np.sqrt(x))):\n",
    "            String  += \"World\"\n",
    "    elif (np.sqrt(x) == int(np.sqrt(x))):\n",
    "        String  += \"World\"\n",
    "    else:\n",
    "        String = \"Goodbye\"        \n",
    "    print(x, String)  \n",
    "    x = x+1     \n",
    "\n",
    "    "
   ]
  },
  {
   "cell_type": "code",
   "execution_count": 8,
   "metadata": {},
   "outputs": [
    {
     "name": "stdout",
     "output_type": "stream",
     "text": [
      "Enter a number between 0 and 10 inclusive:9\n",
      "Hello \n"
     ]
    }
   ],
   "source": [
    "x = int(input(\"Enter a number between 0 and 10 inclusive:\"))\n",
    "\n",
    "String = \"\"\n",
    "\n",
    "  \n",
    "if x<0 or x> 10: \n",
    "    print(\"That was wrong!\")\n",
    "elif x > 5:\n",
    "    String += \"Hello \"\n",
    "elif (np.sqrt(x) == int(np.sqrt(x))):\n",
    "    String  += \"World\"\n",
    "else:\n",
    "    String = \"Goodbye\"\n",
    "        \n",
    "print(String)       \n"
   ]
  },
  {
   "cell_type": "code",
   "execution_count": null,
   "metadata": {},
   "outputs": [],
   "source": []
  }
 ],
 "metadata": {
  "kernelspec": {
   "display_name": "Python 3",
   "language": "python",
   "name": "python3"
  },
  "language_info": {
   "codemirror_mode": {
    "name": "ipython",
    "version": 3
   },
   "file_extension": ".py",
   "mimetype": "text/x-python",
   "name": "python",
   "nbconvert_exporter": "python",
   "pygments_lexer": "ipython3",
   "version": "3.7.6"
  }
 },
 "nbformat": 4,
 "nbformat_minor": 4
}
